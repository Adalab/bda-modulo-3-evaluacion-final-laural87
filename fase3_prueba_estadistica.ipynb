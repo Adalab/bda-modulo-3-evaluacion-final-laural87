{
 "cells": [
  {
   "cell_type": "code",
   "execution_count": 143,
   "metadata": {},
   "outputs": [],
   "source": [
    "\n",
    "# importamos las librerías que necesitamos\n",
    "\n",
    "# Tratamiento de datos\n",
    "# -----------------------------------------------------------------------\n",
    "import pandas as pd\n",
    "import numpy as np\n",
    "\n",
    "# Visualización\n",
    "# ------------------------------------------------------------------------------\n",
    "import matplotlib.pyplot as plt\n",
    "import seaborn as sns\n",
    "\n",
    "# Evaluar linealidad de las relaciones entre las variables\n",
    "# y la distribución de las variables\n",
    "# ------------------------------------------------------------------------------\n",
    "import scipy.stats as stats\n",
    "from scipy.stats import chi2_contingency, ttest_ind\n",
    "\n",
    "# Evaluar linealidad de las relaciones entre las variables\n",
    "# y la distribución de las variables\n",
    "# ------------------------------------------------------------------------------\n",
    "#import scipy.stats as stats\n",
    "from scipy.stats import shapiro, poisson, chisquare, expon, kstest\n",
    "\n",
    "# Configuración\n",
    "# -----------------------------------------------------------------------\n",
    "pd.set_option('display.max_columns', None) # para poder visualizar todas las columnas de los DataFrames\n",
    "\n",
    "# Gestión de los warnings\n",
    "# -----------------------------------------------------------------------\n",
    "import warnings\n",
    "warnings.filterwarnings(\"ignore\")"
   ]
  },
  {
   "cell_type": "markdown",
   "metadata": {},
   "source": [
    "# Fase 3: Evaluación de Diferencias en Reservas de Vuelos por Nivel Educativo\n",
    "\n",
    "\n",
    " Objetivo del Ejercicio: Utilizando un conjunto de datos que hemos compartido, se busca evaluar si existen diferencias significativas en el número de vuelos\n",
    " reservados según el nivel educativo de los clientes. Para ello, los pasos que deberas seguir son:\n",
    " \n",
    " 1. Preparación de Datos:\n",
    "\n",
    " Filtra el conjunto de datos para incluir únicamente las columnas relevantes: 'Flights Booked' y 'Education'.\n",
    " "
   ]
  },
  {
   "cell_type": "code",
   "execution_count": 37,
   "metadata": {},
   "outputs": [],
   "source": [
    "## leemos el csv\n",
    "\n",
    "df= pd.read_csv('data/datos_final.csv', index_col=0)"
   ]
  },
  {
   "cell_type": "code",
   "execution_count": 38,
   "metadata": {},
   "outputs": [
    {
     "data": {
      "text/html": [
       "<div>\n",
       "<style scoped>\n",
       "    .dataframe tbody tr th:only-of-type {\n",
       "        vertical-align: middle;\n",
       "    }\n",
       "\n",
       "    .dataframe tbody tr th {\n",
       "        vertical-align: top;\n",
       "    }\n",
       "\n",
       "    .dataframe thead th {\n",
       "        text-align: right;\n",
       "    }\n",
       "</style>\n",
       "<table border=\"1\" class=\"dataframe\">\n",
       "  <thead>\n",
       "    <tr style=\"text-align: right;\">\n",
       "      <th></th>\n",
       "      <th>loyalty_number</th>\n",
       "      <th>year</th>\n",
       "      <th>month</th>\n",
       "      <th>flights_booked</th>\n",
       "      <th>flights_with_companions</th>\n",
       "      <th>total_flights</th>\n",
       "      <th>distance</th>\n",
       "      <th>points_accumulated</th>\n",
       "      <th>points_redeemed</th>\n",
       "      <th>dollar_cost_points_redeemed</th>\n",
       "      <th>province</th>\n",
       "      <th>city</th>\n",
       "      <th>postal_code</th>\n",
       "      <th>gender</th>\n",
       "      <th>education</th>\n",
       "      <th>salary</th>\n",
       "      <th>marital_status</th>\n",
       "      <th>loyalty_card</th>\n",
       "      <th>clv</th>\n",
       "      <th>enrollment_type</th>\n",
       "      <th>enrollment_year</th>\n",
       "      <th>enrollment_month</th>\n",
       "      <th>cancellation_year</th>\n",
       "      <th>cancellation_month</th>\n",
       "    </tr>\n",
       "  </thead>\n",
       "  <tbody>\n",
       "    <tr>\n",
       "      <th>0</th>\n",
       "      <td>100018</td>\n",
       "      <td>2017</td>\n",
       "      <td>1</td>\n",
       "      <td>3</td>\n",
       "      <td>0</td>\n",
       "      <td>3</td>\n",
       "      <td>1521</td>\n",
       "      <td>152</td>\n",
       "      <td>0</td>\n",
       "      <td>0</td>\n",
       "      <td>alberta</td>\n",
       "      <td>edmonton</td>\n",
       "      <td>t9g 1w3</td>\n",
       "      <td>female</td>\n",
       "      <td>bachelor</td>\n",
       "      <td>92552</td>\n",
       "      <td>married</td>\n",
       "      <td>aurora</td>\n",
       "      <td>7919</td>\n",
       "      <td>standard</td>\n",
       "      <td>2016</td>\n",
       "      <td>8</td>\n",
       "      <td>0</td>\n",
       "      <td>0</td>\n",
       "    </tr>\n",
       "    <tr>\n",
       "      <th>1</th>\n",
       "      <td>100102</td>\n",
       "      <td>2017</td>\n",
       "      <td>1</td>\n",
       "      <td>10</td>\n",
       "      <td>4</td>\n",
       "      <td>14</td>\n",
       "      <td>2030</td>\n",
       "      <td>203</td>\n",
       "      <td>0</td>\n",
       "      <td>0</td>\n",
       "      <td>ontario</td>\n",
       "      <td>toronto</td>\n",
       "      <td>m1r 4k3</td>\n",
       "      <td>male</td>\n",
       "      <td>college</td>\n",
       "      <td>71800</td>\n",
       "      <td>single</td>\n",
       "      <td>nova</td>\n",
       "      <td>2887</td>\n",
       "      <td>standard</td>\n",
       "      <td>2013</td>\n",
       "      <td>3</td>\n",
       "      <td>0</td>\n",
       "      <td>0</td>\n",
       "    </tr>\n",
       "    <tr>\n",
       "      <th>2</th>\n",
       "      <td>100140</td>\n",
       "      <td>2017</td>\n",
       "      <td>1</td>\n",
       "      <td>6</td>\n",
       "      <td>0</td>\n",
       "      <td>6</td>\n",
       "      <td>1200</td>\n",
       "      <td>120</td>\n",
       "      <td>0</td>\n",
       "      <td>0</td>\n",
       "      <td>british columbia</td>\n",
       "      <td>dawson creek</td>\n",
       "      <td>u5i 4f1</td>\n",
       "      <td>female</td>\n",
       "      <td>college</td>\n",
       "      <td>71800</td>\n",
       "      <td>divorced</td>\n",
       "      <td>nova</td>\n",
       "      <td>2838</td>\n",
       "      <td>standard</td>\n",
       "      <td>2016</td>\n",
       "      <td>7</td>\n",
       "      <td>0</td>\n",
       "      <td>0</td>\n",
       "    </tr>\n",
       "  </tbody>\n",
       "</table>\n",
       "</div>"
      ],
      "text/plain": [
       "   loyalty_number  year  month  flights_booked  flights_with_companions  \\\n",
       "0          100018  2017      1               3                        0   \n",
       "1          100102  2017      1              10                        4   \n",
       "2          100140  2017      1               6                        0   \n",
       "\n",
       "   total_flights  distance  points_accumulated  points_redeemed  \\\n",
       "0              3      1521                 152                0   \n",
       "1             14      2030                 203                0   \n",
       "2              6      1200                 120                0   \n",
       "\n",
       "   dollar_cost_points_redeemed          province          city postal_code  \\\n",
       "0                            0           alberta      edmonton     t9g 1w3   \n",
       "1                            0           ontario       toronto     m1r 4k3   \n",
       "2                            0  british columbia  dawson creek     u5i 4f1   \n",
       "\n",
       "   gender education  salary marital_status loyalty_card   clv enrollment_type  \\\n",
       "0  female  bachelor   92552        married       aurora  7919        standard   \n",
       "1    male   college   71800         single         nova  2887        standard   \n",
       "2  female   college   71800       divorced         nova  2838        standard   \n",
       "\n",
       "   enrollment_year  enrollment_month  cancellation_year  cancellation_month  \n",
       "0             2016                 8                  0                   0  \n",
       "1             2013                 3                  0                   0  \n",
       "2             2016                 7                  0                   0  "
      ]
     },
     "execution_count": 38,
     "metadata": {},
     "output_type": "execute_result"
    }
   ],
   "source": [
    "df.head(3)"
   ]
  },
  {
   "cell_type": "code",
   "execution_count": 39,
   "metadata": {},
   "outputs": [
    {
     "data": {
      "text/html": [
       "<div>\n",
       "<style scoped>\n",
       "    .dataframe tbody tr th:only-of-type {\n",
       "        vertical-align: middle;\n",
       "    }\n",
       "\n",
       "    .dataframe tbody tr th {\n",
       "        vertical-align: top;\n",
       "    }\n",
       "\n",
       "    .dataframe thead th {\n",
       "        text-align: right;\n",
       "    }\n",
       "</style>\n",
       "<table border=\"1\" class=\"dataframe\">\n",
       "  <thead>\n",
       "    <tr style=\"text-align: right;\">\n",
       "      <th></th>\n",
       "      <th>flights_booked</th>\n",
       "      <th>education</th>\n",
       "    </tr>\n",
       "  </thead>\n",
       "  <tbody>\n",
       "    <tr>\n",
       "      <th>0</th>\n",
       "      <td>3</td>\n",
       "      <td>bachelor</td>\n",
       "    </tr>\n",
       "    <tr>\n",
       "      <th>1</th>\n",
       "      <td>10</td>\n",
       "      <td>college</td>\n",
       "    </tr>\n",
       "    <tr>\n",
       "      <th>2</th>\n",
       "      <td>6</td>\n",
       "      <td>college</td>\n",
       "    </tr>\n",
       "  </tbody>\n",
       "</table>\n",
       "</div>"
      ],
      "text/plain": [
       "   flights_booked education\n",
       "0               3  bachelor\n",
       "1              10   college\n",
       "2               6   college"
      ]
     },
     "execution_count": 39,
     "metadata": {},
     "output_type": "execute_result"
    }
   ],
   "source": [
    "# Filtramos para hacer el análisis las columnas que necesitamos\n",
    "\n",
    "df_test = df[['flights_booked', 'education']]\n",
    "\n",
    "df_test.head(3)"
   ]
  },
  {
   "cell_type": "code",
   "execution_count": 40,
   "metadata": {},
   "outputs": [
    {
     "data": {
      "text/plain": [
       "array(['bachelor', 'college', 'master', 'high school or below', 'doctor'],\n",
       "      dtype=object)"
      ]
     },
     "execution_count": 40,
     "metadata": {},
     "output_type": "execute_result"
    }
   ],
   "source": [
    "# miramos los valores únicos de la columna education \n",
    "\n",
    "df_test['education'].unique()"
   ]
  },
  {
   "cell_type": "code",
   "execution_count": 41,
   "metadata": {},
   "outputs": [],
   "source": [
    "# Voy a dividir la columna education en dos grupos\n",
    "\n",
    "def categorizar_educacion(valor):\n",
    "    \n",
    "    \"\"\"\n",
    "    Categoriza la edad en grupos específicos.\n",
    "\n",
    "    Esta función toma como entrada un número que representa la edad y devuelve una categoría\n",
    "    específica basada en el rango de edad.\n",
    "\n",
    "    Args:\n",
    "    ----------\n",
    "    numero : int\n",
    "        La edad que se desea categorizar.\n",
    "\n",
    "    Returns:\n",
    "    ------------\n",
    "    str\n",
    "        Una cadena que representa la categoría de edad a la que pertenece el número.\n",
    "\n",
    "    \"\"\"\n",
    "    if valor == 'bachelor'  or valor == 'college' or valor == 'high school or below' :\n",
    "        return \"Estdios no universitarios\"\n",
    "    \n",
    "    else :\n",
    "        return \"Estudios Superiores\"\n",
    "\n",
    "\n"
   ]
  },
  {
   "cell_type": "code",
   "execution_count": 42,
   "metadata": {},
   "outputs": [
    {
     "data": {
      "text/html": [
       "<div>\n",
       "<style scoped>\n",
       "    .dataframe tbody tr th:only-of-type {\n",
       "        vertical-align: middle;\n",
       "    }\n",
       "\n",
       "    .dataframe tbody tr th {\n",
       "        vertical-align: top;\n",
       "    }\n",
       "\n",
       "    .dataframe thead th {\n",
       "        text-align: right;\n",
       "    }\n",
       "</style>\n",
       "<table border=\"1\" class=\"dataframe\">\n",
       "  <thead>\n",
       "    <tr style=\"text-align: right;\">\n",
       "      <th></th>\n",
       "      <th>flights_booked</th>\n",
       "      <th>education</th>\n",
       "      <th>cat_edu</th>\n",
       "    </tr>\n",
       "  </thead>\n",
       "  <tbody>\n",
       "    <tr>\n",
       "      <th>31077</th>\n",
       "      <td>0</td>\n",
       "      <td>bachelor</td>\n",
       "      <td>Estdios no universitarios</td>\n",
       "    </tr>\n",
       "    <tr>\n",
       "      <th>268892</th>\n",
       "      <td>3</td>\n",
       "      <td>college</td>\n",
       "      <td>Estdios no universitarios</td>\n",
       "    </tr>\n",
       "    <tr>\n",
       "      <th>365695</th>\n",
       "      <td>4</td>\n",
       "      <td>master</td>\n",
       "      <td>Estudios Superiores</td>\n",
       "    </tr>\n",
       "    <tr>\n",
       "      <th>116901</th>\n",
       "      <td>0</td>\n",
       "      <td>college</td>\n",
       "      <td>Estdios no universitarios</td>\n",
       "    </tr>\n",
       "    <tr>\n",
       "      <th>215571</th>\n",
       "      <td>0</td>\n",
       "      <td>bachelor</td>\n",
       "      <td>Estdios no universitarios</td>\n",
       "    </tr>\n",
       "  </tbody>\n",
       "</table>\n",
       "</div>"
      ],
      "text/plain": [
       "        flights_booked education                    cat_edu\n",
       "31077                0  bachelor  Estdios no universitarios\n",
       "268892               3   college  Estdios no universitarios\n",
       "365695               4    master        Estudios Superiores\n",
       "116901               0   college  Estdios no universitarios\n",
       "215571               0  bachelor  Estdios no universitarios"
      ]
     },
     "execution_count": 42,
     "metadata": {},
     "output_type": "execute_result"
    }
   ],
   "source": [
    "# Creamos una columna nueva y aplicamos la función que hemos creado con anterioridad\n",
    "\n",
    "df_test['cat_edu'] = df[\"education\"].apply(categorizar_educacion)\n",
    "\n",
    "df_test.sample(5)"
   ]
  },
  {
   "cell_type": "code",
   "execution_count": 127,
   "metadata": {},
   "outputs": [],
   "source": [
    "#Hacemos un data frame por cada uno de los grupos\n",
    "\n",
    "df_uni = df_test[df_test['cat_edu'] == 'Estdios no universitarios']['flights_booked']\n",
    "df_nouni = df_test[df_test['cat_edu'] == 'Estudios Superiores']['flights_booked']\n"
   ]
  },
  {
   "cell_type": "markdown",
   "metadata": {},
   "source": [
    " 2. Análisis Descriptivo:\n",
    "\n",
    " Agrupa los datos por nivel educativo y calcula estadísticas descriptivas básicas (como el promedio, la desviación estandar, los percentiles) del\n",
    " número de vuelos reservados para cada grupo."
   ]
  },
  {
   "cell_type": "code",
   "execution_count": 129,
   "metadata": {},
   "outputs": [],
   "source": [
    "\n",
    "def mirar_estadisticas(df):\n",
    "    \n",
    "    \n",
    "    print(f'La número de valores que hay en este grupo  {df.count()}')\n",
    "    print('======================================================')\n",
    "\n",
    "    print(f'La media es {round(df.mean(),2)}')\n",
    "    print('======================================================')\n",
    "\n",
    "    print(f'La mediana es {round(df.median(),2)}')\n",
    "    print('======================================================')\n",
    "\n",
    "    print(f'La moda es {df.mode()}')\n",
    "    print('======================================================')\n",
    "\n",
    "    print(f'La varianza es {round(df.var(),2)}')\n",
    "    print('======================================================')\n",
    "\n",
    "    print(f'La desviación estandar {round(df.std(),2)}')\n",
    "    print('======================================================')\n",
    "\n",
    "    print(f'El percentile 25% {np.percentile(df, 25)}')\n",
    "    print('======================================================')\n",
    "\n",
    "    print(f'El percentile 50% {np.percentile(df, 50)}')\n",
    "    print('======================================================')\n",
    "\n",
    "    print(f'El percentile 75% {np.percentile(df, 75)}')\n",
    "    print('======================================================')\n",
    "\n",
    "    print(f'El valor máxímo {df.max()}')\n",
    "    print('======================================================')\n",
    "\n",
    "    print(f'El valor mínimo {df.min()}')\n",
    "    print('======================================================')\n",
    "\n",
    "\n"
   ]
  },
  {
   "cell_type": "code",
   "execution_count": 130,
   "metadata": {},
   "outputs": [
    {
     "name": "stdout",
     "output_type": "stream",
     "text": [
      "La número de valores que hay en este grupo  375432\n",
      "======================================================\n",
      "La media es 4.11\n",
      "======================================================\n",
      "La mediana es 1.0\n",
      "======================================================\n",
      "La moda es 0    0\n",
      "Name: flights_booked, dtype: int64\n",
      "======================================================\n",
      "La varianza es 27.3\n",
      "======================================================\n",
      "La desviación estandar 5.22\n",
      "======================================================\n",
      "El percentile 25% 0.0\n",
      "======================================================\n",
      "El percentile 50% 1.0\n",
      "======================================================\n",
      "El percentile 75% 8.0\n",
      "======================================================\n",
      "El valor máxímo 21\n",
      "======================================================\n",
      "El valor mínimo 0\n",
      "======================================================\n"
     ]
    }
   ],
   "source": [
    "#miramos los datos estadísticos para el grupo universitarios\n",
    "\n",
    "mirar_estadisticas(df_uni)"
   ]
  },
  {
   "cell_type": "code",
   "execution_count": 131,
   "metadata": {},
   "outputs": [
    {
     "data": {
      "text/plain": [
       "count    375432.000000\n",
       "mean          4.111301\n",
       "std           5.224839\n",
       "min           0.000000\n",
       "25%           0.000000\n",
       "50%           1.000000\n",
       "75%           8.000000\n",
       "max          21.000000\n",
       "Name: flights_booked, dtype: float64"
      ]
     },
     "execution_count": 131,
     "metadata": {},
     "output_type": "execute_result"
    }
   ],
   "source": [
    "# También lo podemos hacer con el describe\n",
    "\n",
    "df_uni.describe()"
   ]
  },
  {
   "cell_type": "code",
   "execution_count": 132,
   "metadata": {},
   "outputs": [
    {
     "name": "stdout",
     "output_type": "stream",
     "text": [
      "La número de valores que hay en este grupo  30192\n",
      "======================================================\n",
      "La media es 4.16\n",
      "======================================================\n",
      "La mediana es 1.0\n",
      "======================================================\n",
      "La moda es 0    0\n",
      "Name: flights_booked, dtype: int64\n",
      "======================================================\n",
      "La varianza es 27.39\n",
      "======================================================\n",
      "La desviación estandar 5.23\n",
      "======================================================\n",
      "El percentile 25% 0.0\n",
      "======================================================\n",
      "El percentile 50% 1.0\n",
      "======================================================\n",
      "El percentile 75% 8.0\n",
      "======================================================\n",
      "El valor máxímo 21\n",
      "======================================================\n",
      "El valor mínimo 0\n",
      "======================================================\n"
     ]
    }
   ],
   "source": [
    "#miramos los datos estadísticos para el grupo no universitarios\n",
    "\n",
    "mirar_estadisticas(df_nouni)"
   ]
  },
  {
   "cell_type": "code",
   "execution_count": 166,
   "metadata": {},
   "outputs": [
    {
     "data": {
      "image/png": "[encoded data removed]",
      "text/plain": [
       "<Figure size 1000x600 with 1 Axes>"
      ]
     },
     "metadata": {},
     "output_type": "display_data"
    }
   ],
   "source": [
    "import seaborn as sns\n",
    "import matplotlib.pyplot as plt\n",
    "\n",
    "plt.figure(figsize=(10, 6))\n",
    "sns.boxplot(x='cat_edu', y='flights_booked', data=df_test, palette='Set3')\n",
    "plt.xlabel('Nivel Educativo')\n",
    "plt.ylabel('Vuelos Reservados')\n",
    "plt.title('Distribución de Vuelos Reservados por Nivel Educativo')\n",
    "plt.show()"
   ]
  },
  {
   "cell_type": "markdown",
   "metadata": {},
   "source": [
    " 3. Prueba Estadística:\n",
    "\n",
    " Realiza una prueba de A/B testing para determinar si existe una diferencia significativa en el número de vuelos reservados entre los diferentes\n",
    " niveles educativos"
   ]
  },
  {
   "cell_type": "code",
   "execution_count": null,
   "metadata": {},
   "outputs": [],
   "source": [
    "# primero tenemos que saber si es por proporciones o media\n",
    "    # no es proporciones porque tiene valor númericos\n",
    "    # Así que tenemos que seguir el flojo de trabajo media\n",
    "        # Realizamos prueba de normalidad\n",
    "        # Realizamos prueba de homogeniedad\n",
    "\n"
   ]
  },
  {
   "cell_type": "code",
   "execution_count": 145,
   "metadata": {},
   "outputs": [
    {
     "name": "stdout",
     "output_type": "stream",
     "text": [
      "Los datos no se ajustan a una distribución normal (p-value = 0.0 )\n"
     ]
    }
   ],
   "source": [
    "# Realizar una prueba de normalidad (usando la prueba de Shapiro-Wilk)\n",
    "\n",
    "p_value = shapiro(df_test['flights_booked']).pvalue\n",
    "\n",
    "alpha = 0.05\n",
    "if p_value > alpha:\n",
    "    print(\"Los datos se ajustan a una distribución normal (p-value =\", p_value, \")\")\n",
    "else:\n",
    "    print(\"Los datos no se ajustan a una distribución normal (p-value =\", p_value, \")\")"
   ]
  },
  {
   "cell_type": "markdown",
   "metadata": {},
   "source": [
    "Como no se ajusta a una distribución normal tendremos que hacer la prueba man_whitney"
   ]
  },
  {
   "cell_type": "code",
   "execution_count": 167,
   "metadata": {},
   "outputs": [
    {
     "name": "stdout",
     "output_type": "stream",
     "text": [
      "Para la métrica flights_booked las varianzas son homogéneas entre grupos.\n"
     ]
    }
   ],
   "source": [
    "def homogeneidad (dataframe, columna, columna_metrica):\n",
    "    \n",
    "    \"\"\"\n",
    "    Evalúa la homogeneidad de las varianzas entre grupos para una métrica específica en un DataFrame dado.\n",
    "\n",
    "    Parámetros:\n",
    "    - dataframe (DataFrame): El DataFrame que contiene los datos.\n",
    "    - columna (str): El nombre de la columna que se utilizará para dividir los datos en grupos.\n",
    "    - columna_metrica (str): El nombre de la columna que se utilizará para evaluar la homogeneidad de las varianzas.\n",
    "\n",
    "    Returns:\n",
    "    No devuelve nada directamente, pero imprime en la consola si las varianzas son homogéneas o no entre los grupos.\n",
    "    Se utiliza la prueba de Levene para evaluar la homogeneidad de las varianzas. Si el valor p resultante es mayor que 0.05,\n",
    "    se concluye que las varianzas son homogéneas; de lo contrario, se concluye que las varianzas no son homogéneas.\n",
    "    \"\"\"\n",
    "    \n",
    "    # lo primero que tenemos que hacer es crear tantos conjuntos de datos para cada una de las categorías que tenemos, Control Campaign y Test Campaign\n",
    "    valores_evaluar = []\n",
    "    \n",
    "    for valor in dataframe[columna].unique():\n",
    "        valores_evaluar.append(dataframe[dataframe[columna]== valor][columna_metrica])\n",
    "\n",
    "    statistic, p_value = stats.levene(*valores_evaluar)\n",
    "    if p_value > 0.05:\n",
    "        print(f\"Para la métrica {columna_metrica} las varianzas son homogéneas entre grupos.\")\n",
    "    else:\n",
    "        print(f\"Para la métrica {columna_metrica}, las varianzas no son homogéneas entre grupos.\")\n",
    "\n",
    "    \n",
    "homogeneidad(df_test, 'cat_edu', 'flights_booked')"
   ]
  },
  {
   "cell_type": "code",
   "execution_count": 175,
   "metadata": {},
   "outputs": [
    {
     "name": "stdout",
     "output_type": "stream",
     "text": [
      "Prueba de Chi-cuadrado - p-valor: 0.03817426968200615\n",
      "Prueba t para CTR entre Control y Test - p-valor: 0.10691111643121602\n"
     ]
    }
   ],
   "source": [
    "\n",
    "\n",
    "# Realizar la prueba de chi-cuadrado para evaluar la independencia de dos variables categóricas\n",
    "contingency_table = pd.crosstab(df_test['cat_edu'], df['flights_booked'])\n",
    "chi2, p_chi2, _, _ = chi2_contingency(contingency_table)\n",
    "print(f\"Prueba de Chi-cuadrado - p-valor: {p_chi2}\")\n",
    "\n",
    "# Realizar una prueba t para comparar las medias de dos grupos (por ejemplo, Control vs. Test)\n",
    "control_group = df_test[df_test['cat_edu'] == 'Estdios no universitarios']\n",
    "test_group = df_test[df_test['cat_edu'] == 'Estudios Superiores']\n",
    "t_stat, p_ttest = ttest_ind(control_group['flights_booked'], test_group['flights_booked'])\n",
    "print(f\"Prueba t para CTR entre Control y Test - p-valor: {p_ttest}\")\n",
    "\n"
   ]
  },
  {
   "cell_type": "markdown",
   "metadata": {},
   "source": [
    "Conclusión General\n",
    "Prueba de Chi-cuadrado: Hay una relación significativa entre el nivel educativo y el número de vuelos reservados.\n",
    "Prueba t: No hay una diferencia significativa en la media del número de vuelos reservados entre los dos grupos de estudio.\n",
    "Esto puede indicar que, aunque el nivel educativo tiene algún impacto en la distribución de los vuelos reservados (como puede ser que un grupo tenga más variabilidad en las reservas), las medias de las reservas entre los grupos no son significativamente diferentes. Esto podría ser útil para ajustar estrategias o políticas específicas según el nivel educativo."
   ]
  },
  {
   "cell_type": "code",
   "execution_count": 165,
   "metadata": {},
   "outputs": [
    {
     "name": "stdout",
     "output_type": "stream",
     "text": [
      "Para la métrica flights_booked, las medianas son diferentes.\n"
     ]
    }
   ],
   "source": [
    "# vamos a crear una función para calcular este test y ver si hay diferencias entre los grupos de estudio\n",
    "\n",
    "def test_man_whitney(dataframe, columnas_metricas, grupo_control, grupo_test, columna_grupos = \"cat_edu\"):\n",
    "\n",
    "    \"\"\"\n",
    "    Realiza la prueba de Mann-Whitney U para comparar las medianas de las métricas entre dos grupos en un DataFrame dado.\n",
    "\n",
    "    Parámetros:\n",
    "    - dataframe (DataFrame): El DataFrame que contiene los datos.\n",
    "    - columnas_metricas (list): Una lista de nombres de columnas que representan las métricas a comparar entre los grupos.\n",
    "    - grupo_control (str): El nombre del grupo de control en la columna especificada por columna_grupos.\n",
    "    - grupo_test (str): El nombre del grupo de test en la columna especificada por columna_grupos.\n",
    "    - columna_grupos (str): El nombre de la columna que contiene la información de los grupos. Por defecto, \"campaign_name\".\n",
    "\n",
    "    Returns \n",
    "    No devuelve nada directamente, pero imprime en la consola si las medianas son diferentes o iguales para cada métrica.\n",
    "    Se utiliza la prueba de Mann-Whitney U para evaluar si hay diferencias significativas entre los grupos.\n",
    "    \"\"\"\n",
    "    # filtramos el DataFrame para quedarnos solo con los datos de control\n",
    "    control = dataframe[dataframe[columna_grupos] == grupo_control]\n",
    "    \n",
    "    # filtramos el DataFrame para quedarnos solo con los datos de control\n",
    "    test = dataframe[dataframe[columna_grupos] == grupo_test]\n",
    "    \n",
    "        \n",
    "    # filtrams el conjunto de datos para quedarnos solo con la columna de la metrica que nos interesa\n",
    "    metrica_control = control[columnas_metricas]\n",
    "    metrica_test = test[columnas_metricas]\n",
    "        \n",
    "        # aplicamos el estadístico\n",
    "    u_statistic, p_value = stats.mannwhitneyu(metrica_control, metrica_test)\n",
    "        \n",
    "    if p_value < 0.05:\n",
    "            print(f\"Para la métrica {columnas_metricas}, las medianas son diferentes.\")\n",
    "    else:\n",
    "            print(f\"Para la métrica {columnas_metricas}, las medianas son iguales.\")\n",
    "            \n",
    "    \n",
    "\n",
    "## llamamos a la función\n",
    "test_man_whitney(df_test, 'flights_booked', 'Estdios no universitarios', 'Estudios Superiores' )"
   ]
  },
  {
   "cell_type": "code",
   "execution_count": null,
   "metadata": {},
   "outputs": [],
   "source": [
    "# Se realizó una prueba de Mann-Whitney U para comparar el número de vuelos reservados entre grupos con distintos niveles educativos: 'universitario' y 'no_universitario'. \n",
    "# Los resultados indican que hay una diferencia significativa en las medianas de vuelos reservados entre estos grupos (p < 0.05). \n",
    "# Esto sugiere que las estrategias de marketing y promoción pueden necesitar ser ajustadas para abordar las diferentes necesidades y comportamientos de estos segmentos de clientes.\n"
   ]
  }
 ],
 "metadata": {
  "kernelspec": {
   "display_name": "Python 3",
   "language": "python",
   "name": "python3"
  },
  "language_info": {
   "codemirror_mode": {
    "name": "ipython",
    "version": 3
   },
   "file_extension": ".py",
   "mimetype": "text/x-python",
   "name": "python",
   "nbconvert_exporter": "python",
   "pygments_lexer": "ipython3",
   "version": "3.11.7"
  }
 },
 "nbformat": 4,
 "nbformat_minor": 2
}
